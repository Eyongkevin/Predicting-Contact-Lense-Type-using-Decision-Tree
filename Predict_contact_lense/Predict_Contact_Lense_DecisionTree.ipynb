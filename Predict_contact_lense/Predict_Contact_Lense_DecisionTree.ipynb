{
 "cells": [
  {
   "cell_type": "markdown",
   "metadata": {},
   "source": [
    "# ML: Supervised Learning\n",
    "# Predicting Contact Lense Type using Decision Tree\n",
    "------------------"
   ]
  },
  {
   "cell_type": "markdown",
   "metadata": {},
   "source": [
    "## Step 0: Inport\n",
    "Here, we import all neccessary libraries and modules.\n",
    "We will be working with external files mostly, which are \n",
    "- **tree.py**: It contain all the code for importing data, preprocessing and classification\n",
    "- **treePlotter.py**: It contain all the code for plotting the decision tree graph\n",
    "- **saveDT.py**: It contain all the code for saving and loading the classifier."
   ]
  },
  {
   "cell_type": "code",
   "execution_count": 8,
   "metadata": {},
   "outputs": [
    {
     "name": "stdout",
     "output_type": "stream",
     "text": [
      "The autoreload extension is already loaded. To reload it, use:\n",
      "  %reload_ext autoreload\n"
     ]
    }
   ],
   "source": [
    "%load_ext autoreload\n",
    "%autoreload 2\n",
    "\n",
    "import sys\n",
    "sys.path.insert(0, r'../py_files/')\n",
    "\n",
    "#import tree\n",
    "#import treePlotter\n",
    "#import saveDT\n",
    "\n",
    "from math import log\n",
    "import operator\n",
    "from collections import namedtuple\n",
    "import saveDT \n",
    "from pdb import set_trace\n",
    "\n"
   ]
  },
  {
   "cell_type": "markdown",
   "metadata": {},
   "source": [
    "## Step 1: Business Understanding\n",
    "### Step 1.1 Project Objectives\n",
    "\n",
    "In Supervised Learning, Decision Trees are one of the most popular and most used machine learning algorithms. Some libraries like scikit-learn implements this algorithm which facilitates their usage. However, in this project, I will build this algorithm from scratch with Python to solve the problem \"Predicting Contact Lens Type\". Also, I will integrate this algorithm into a GUI which could be used by non-technical individuals to predict contact lens type.\n",
    "\n",
    "### Step 1.2: Project Plan\n",
    "\n",
    "The project will be divided in to **2 sections**. The first section will deal with\n",
    "- Data aquisition\n",
    "- data analysis\n",
    "- data preparation\n",
    "- model building\n",
    "- Evaluation\n",
    "- Deployment\n",
    "\n",
    "The second section will deal with\n",
    "- GUI intergration\n",
    "- Evaluation\n",
    "- Deployment\n",
    "\n",
    "In each of these steps, we will write python code to complete them\n",
    "\n",
    "### Step 1.3: Business success criteria\n",
    "The following criteria will determine whether this project has been successful\n",
    "- Build decision trees algorithm from scratch in Python\n",
    "- Predict contact lens type using the decision treee built from scratch\n",
    "- Intergrate the decision tree algorithm into a GUI\n",
    "- GUI is easy to use and attractive in the eyes.\n",
    "\n",
    "### Step 1.4: Poject Requirements\n",
    "To complete this project, you will need a computer. The required packages and libraries can be found in the `requirement.txt` file which could be used to set up an environment, for example with anaconda as:\n",
    "\n"
   ]
  },
  {
   "cell_type": "markdown",
   "metadata": {},
   "source": [
    "## Section 1: Implementation and testing\n",
    "In this section, I will implement the various parts of the project and ensure that it works well by testing them. This section enables us to have an insight on what is going on in the program. Also, it will facilitate maintanance since here, we are exposed with every details about the program backend."
   ]
  },
  {
   "cell_type": "markdown",
   "metadata": {},
   "source": [
    "### Step 1: Data understanding\n",
    "#### Step 1.1 : Data acquisition\n",
    "We will use the lenses dataset from the **UCI Machine Learning Repository November 3, 2010** [http://archive.ics.uci.edu/ml/machine-learning-databases/lenses/]. It's a number of observations based on patients eye conditions and the type of contact lenses the doctor prescribed.\n",
    "\n",
    "The dataset from the UCI repository has 3 files\n",
    "- lense.data.txt\n",
    "- lenses.names.txt\n",
    "- index.txt\n",
    "\n",
    "The `lense.data.txt` is made up of the actual data. However, the content of this file is all in numerical representations. By using the description from the `lense.name.txt` file, we will construct a more representative data file from the `lense.data.txt` file called `lenses.txt` so that it can be displayed easier.\n",
    "\n",
    "\n",
    "\n"
   ]
  },
  {
   "cell_type": "markdown",
   "metadata": {},
   "source": [
    "#### Step 1.2 Extract data and create label classes\n",
    "\n",
    "**NB:** *While collecting the data, we should ensure that we take care of the tab-delimited lines.*"
   ]
  },
  {
   "cell_type": "code",
   "execution_count": 2,
   "metadata": {
    "collapsed": true
   },
   "outputs": [],
   "source": [
    "# Extract the data. Be aware of tab-delimited lines\n",
    "lenses = []\n",
    "with open('data/lenses','r') as fr:\n",
    "    # .strip() removes all leading and trailing spaces from the string\n",
    "    # .split(\\t) will split or create a list of each string separated at each tab(\\t)\n",
    "    lenses = [inst.strip().split('\\t') for inst in fr.readlines()]\n",
    "    \n",
    "# Create label classes\n",
    "lensesLabels = ['age','prescript','astigmatic','tearRate']"
   ]
  },
  {
   "cell_type": "code",
   "execution_count": 3,
   "metadata": {},
   "outputs": [
    {
     "name": "stdout",
     "output_type": "stream",
     "text": [
      "data is :[['young', 'myope', 'no', 'reduced', 'no lenses'], ['young', 'myope', 'no', 'normal', 'soft'], ['young', 'myope', 'yes', 'reduced', 'no lenses'], ['young', 'myope', 'yes', 'normal', 'hard'], ['young', 'hyper', 'no', 'reduced', 'no lenses'], ['young', 'hyper', 'no', 'normal', 'soft'], ['young', 'hyper', 'yes', 'reduced', 'no lenses'], ['young', 'hyper', 'yes', 'normal', 'hard'], ['pre', 'myope', 'no', 'reduced', 'no lenses'], ['pre', 'myope', 'no', 'normal', 'soft'], ['pre', 'myope', 'yes', 'reduced', 'no lenses'], ['pre', 'myope', 'yes', 'normal', 'hard'], ['pre', 'hyper', 'no', 'reduced', 'no lenses'], ['pre', 'hyper', 'no', 'normal', 'soft'], ['pre', 'hyper', 'yes', 'reduced', 'no lenses'], ['pre', 'hyper', 'yes', 'normal', 'no lenses'], ['presbyopic', 'myope', 'no', 'reduced', 'no lenses'], ['presbyopic', 'myope', 'no', 'normal', 'no lenses'], ['presbyopic', 'myope', 'yes', 'reduced', 'no lenses'], ['presbyopic', 'myope', 'yes', 'normal', 'hard'], ['presbyopic', 'hyper', 'no', 'reduced', 'no lenses'], ['presbyopic', 'hyper', 'no', 'normal', 'soft'], ['presbyopic', 'hyper', 'yes', 'reduced', 'no lenses'], ['presbyopic', 'hyper', 'yes', 'normal', 'no lenses']]\n",
      "\n",
      "Lense Labels are ['age', 'prescript', 'astigmatic', 'tearRate']\n"
     ]
    }
   ],
   "source": [
    "print('data is :{0}'.format(lenses))\n",
    "print('\\nLense Labels are {0}'.format(lensesLabels))"
   ]
  },
  {
   "cell_type": "markdown",
   "metadata": {},
   "source": [
    "#### Step 1.3: Explore Data\n",
    "Looking at the `lenses.names.txt` file, we see that the data has **24 number of instances** with **4 attributes**:\n",
    "\n",
    "- age of the patient [ young, pre-presbyopic, prespyopic]\n",
    "- spectacle prescription [ myope, hypermetrope]\n",
    "- astigmatic: [no, yes]\n",
    "- tear production rate: [reduced, normal]\n",
    "\n",
    "And **3 label classes**:\n",
    "\n",
    "- hard contact lenses\n",
    "- soft contact lenses\n",
    "- no contact lenses\n",
    "\n",
    "NB: The aboves are originally represented as numeric in the `lenses.data.txt` file.\n",
    "\n",
    "```\n",
    "1  1  1  1  1  3\n",
    "2  1  1  1  2  2\n",
    "3  1  1  2  1  3\n",
    "4  1  1  2  2  1\n",
    "5  1  2  1  1  3\n",
    "6  1  2  1  2  2\n",
    "7  1  2  2  1  3\n",
    "8  1  2  2  2  1\n",
    "9  2  1  1  1  3\n",
    "10 2  1  1  2  2\n",
    "11 2  1  2  1  3\n",
    "12 2  1  2  2  1\n",
    "13 2  2  1  1  3\n",
    "14 2  2  1  2  2\n",
    "15 2  2  2  1  3\n",
    "16 2  2  2  2  3\n",
    "17 3  1  1  1  3\n",
    "18 3  1  1  2  3\n",
    "19 3  1  2  1  3\n",
    "20 3  1  2  2  1\n",
    "21 3  2  1  1  3\n",
    "22 3  2  1  2  2\n",
    "23 3  2  2  1  3\n",
    "24 3  2  2  2  3\n",
    "```"
   ]
  },
  {
   "cell_type": "markdown",
   "metadata": {},
   "source": [
    "### Step 3: Data preparation\n",
    "#### Step 3.1: Construct required data\n",
    "As seen above, our dataset are originally represented as numeric in the `lenses.data.txt` file. And since one of the **Pros** of decision tree is that *it's easy for humans to understand learned results*, we will preprocess our dataset to represent it in a more human-understandable way.\n",
    "\n",
    "Using the `lenses.names.txt`, we preprocessed a new file `lenses.txt`\n",
    "```\n",
    "young\tmyope\tno\treduced\tno lenses\n",
    "young\tmyope\tno\tnormal\tsoft\n",
    "young\tmyope\tyes\treduced\tno lenses\n",
    "young\tmyope\tyes\tnormal\thard\n",
    "young\thyper\tno\treduced\tno lenses\n",
    "young\thyper\tno\tnormal\tsoft\n",
    "young\thyper\tyes\treduced\tno lenses\n",
    "young\thyper\tyes\tnormal\thard\n",
    "pre\tmyope\tno\treduced\tno lenses\n",
    "pre\tmyope\tno\tnormal\tsoft\n",
    "pre\tmyope\tyes\treduced\tno lenses\n",
    "pre\tmyope\tyes\tnormal\thard\n",
    "pre\thyper\tno\treduced\tno lenses\n",
    "pre\thyper\tno\tnormal\tsoft\n",
    "pre\thyper\tyes\treduced\tno lenses\n",
    "pre\thyper\tyes\tnormal\tno lenses\n",
    "presbyopic\tmyope\tno\treduced\tno lenses\n",
    "presbyopic\tmyope\tno\tnormal\tno lenses\n",
    "presbyopic\tmyope\tyes\treduced\tno lenses\n",
    "presbyopic\tmyope\tyes\tnormal\thard\n",
    "presbyopic\thyper\tno\treduced\tno lenses\n",
    "presbyopic\thyper\tno\tnormal\tsoft\n",
    "presbyopic\thyper\tyes\treduced\tno lenses\n",
    "presbyopic\thyper\tyes\tnormal\tno lenses\n",
    "```"
   ]
  },
  {
   "cell_type": "markdown",
   "metadata": {},
   "source": [
    "### Step 4: Modelling\n",
    "The modeling technique I will use here is **Decision Tree**. \n",
    "To build the decision tree, I will need to make a first decision on the dataset to dictate which feature is used to split the data. To determine this, I will try every feature and measure which split will give me the best results. After that, I'll split the dataset into subsets. The subsets will then traverse down the branches of the first decision node. If the data on the branches are the same class, then I've properly classified it and don't need to continue splitting it. If the data isn't the same class, I will continue the  splitting process on the subset.\n",
    "\n",
    "The follwoing steps are neccessary to build a complete decision tree algorithm:\n"
   ]
  },
  {
   "attachments": {
    "Entropy.png": {
     "image/png": "[encoded data removed]"
    }
   },
   "cell_type": "markdown",
   "metadata": {},
   "source": [
    "### Step 4.1 Shannon Entropy\n",
    "We choose to split our dataset in a way that makes our unorganized data more organized. There are multiple ways to do this. One way is to measure the information using **Information theory**. \n",
    "\n",
    "Information theory is a branch of science that's concerned with quantifying information. Change in information before and after the split is known as the **information gain** and the split with the highest information gain is your best option.\n",
    "\n",
    "The measure of information of a set is known as the **Shannon entropy**, or just entropy for short. Its name comes from the father of information theory, **Claude Shannon**.\n",
    "\n",
    "To calculate entropy, you need the expected value of all the information of all possible values of our class. This is given by:\n",
    "\n",
    "![Entropy.png](attachment:Entropy.png)\n",
    "\n",
    "Where:\n",
    "- *n* is the number of classes,\n",
    "- *p(xi)* is the probability of choosing this class\n",
    "\n",
    "**NB**:* If the entropy result is **0**, then it shows that all the information belong in the same class, and vise vesa. But if **1**, then it is uniformly distributed within a set of classes. However, the higher the entropy(>1), the more mixed up the data is.*\n",
    "\n",
    "Lets write some python code to implement this entropy"
   ]
  },
  {
   "cell_type": "code",
   "execution_count": 5,
   "metadata": {
    "collapsed": true
   },
   "outputs": [],
   "source": [
    "def calcShannonEnt(dataset):   \n",
    "    \"\"\"\n",
    "    This calculates the Shannon Entropy which is the measure of the amount of uncertainty in the data\n",
    "    or the expected value of an information.\n",
    "    This tells us how the data is distributed through out some classes. \n",
    "    if the entropy result is 0, then it shows that \n",
    "    all the information belong in the same class. and vise vesa. But if 1,\n",
    "    then it is uniformly distributed whithin a set of classes.However, the higher the entropy(>1), \n",
    "    the more mixed up the data is.\n",
    "    -----------------------------\n",
    "    INPUT:\n",
    "        dataset: List\n",
    "            contains list of labels and values \n",
    "    OUTPUT:\n",
    "        shannonEnt: Float\n",
    "            return the shannon entropy of the dataset\n",
    "    \"\"\"    \n",
    "    \n",
    "    numEntries = len(dataset)                         #get length\n",
    "    labelCounts = {}\n",
    "    #here we get the frequency of the data label\n",
    "    for featVec in dataset:\n",
    "        currentLabel = featVec[-1]                    #get the last value in the list. which is the label. eg [1,1, 'yes']\n",
    "        '''\n",
    "        if currentLabel not in labelCounts.keys():    #check if the label is not yet in the dictionary\n",
    "            labelCounts[currentLabel] = 0             #add it with an initial value of zero\n",
    "        labelCounts[currentLabel] += 1                #This will increment each time it sees the label.\n",
    "        '''\n",
    "        labelCounts[currentLabel] = labelCounts.get(currentLabel,0) + 1\n",
    "    shannonEnt = 0.0\n",
    "    #here we calculate the log\n",
    "    for key in labelCounts:\n",
    "        prob = float(labelCounts[key])/numEntries     #calculate the probability [each label frequency/dataset length]\n",
    "        shannonEnt -= prob * log(prob,2)              #This is where the entropy formula is been applied P(xi)log2P(xi)\n",
    "    return shannonEnt"
   ]
  },
  {
   "cell_type": "markdown",
   "metadata": {},
   "source": [
    "Lets create a dataset to test our entropy function"
   ]
  },
  {
   "cell_type": "code",
   "execution_count": 13,
   "metadata": {
    "collapsed": true
   },
   "outputs": [],
   "source": [
    "def createDataset():\n",
    "    dataset = [\t[1, 1, 'yes'],\n",
    "                [1, 1, 'yes'],\n",
    "                [1,1, 'maybe'],\n",
    "                [1,0, 'no'],\n",
    "                [0,1, 'no'],\n",
    "                [0,1, 'no']]\n",
    "\n",
    "    labels = ['no surfacing','flippers']\n",
    "    dataset_created = namedtuple('data',['dataset','labels'])\n",
    "    return dataset_created(dataset, labels)"
   ]
  },
  {
   "cell_type": "markdown",
   "metadata": {},
   "source": [
    "Lets test our entropy function"
   ]
  },
  {
   "cell_type": "code",
   "execution_count": 14,
   "metadata": {},
   "outputs": [
    {
     "name": "stdout",
     "output_type": "stream",
     "text": [
      "Shannon Entropy is 1.4591479170272448\n"
     ]
    }
   ],
   "source": [
    "data = createDataset()\n",
    "shannonEntrop = calcShannonEnt(data.dataset)\n",
    "print(\"Shannon Entropy is {0}\".format(shannonEntrop))"
   ]
  },
  {
   "cell_type": "markdown",
   "metadata": {},
   "source": [
    "### Step 4.2 Splitting dataset\n",
    "The next step is splitting the dataset. We saw already above how to measure the amount of disorder in the dataset. Here, we measure the entropy, split the dataset, measure the entropy on the split sets, and see if splitting it was the right thing to do. We will do this for all of our features to determine the best feature to split on.\n",
    "\n",
    "**NB**: *This function will be used recursively on all features in the dataset to determine the best feature to split on.*"
   ]
  },
  {
   "cell_type": "code",
   "execution_count": 17,
   "metadata": {
    "collapsed": true
   },
   "outputs": [],
   "source": [
    "def splitDataSet(dataSet, axis, value):\n",
    "    '''\n",
    "    Decision tree consist of seperating data, calculating the entropy change, and over and over\n",
    "    This function provides the spliting feature of this system.\n",
    "    --------------------\n",
    "    INPUT:\n",
    "        - dataSet: list \n",
    "            list of the data set\n",
    "        - axis: int\n",
    "            the axis(index) to split on\n",
    "        - value: int\n",
    "            The value of the axis feature to split on.\n",
    "    OUTPUT: retDataSet: list\n",
    "        List of splitted data on an axis.\n",
    "    @Hint:\n",
    "        - This fxn will be called recursively, so we need to create an array for each call.\n",
    "        which will hold the split result, since list are mutable.\n",
    "    '''\n",
    "    retDataSet = []\n",
    "    for featVec in dataSet:\n",
    "        if featVec[axis] == value:\n",
    "            reducedFeatVec = featVec[:axis]\n",
    "            reducedFeatVec.extend(featVec[axis+1:])\n",
    "            retDataSet.append(reducedFeatVec)\n",
    "    return retDataSet"
   ]
  },
  {
   "cell_type": "markdown",
   "metadata": {},
   "source": [
    "We call this function once in a dataset to have a feel on how it works.\n",
    "```\n",
    "    data = [[1, 1, 'yes'], [1, 1, 'yes'],[1, 1, 'maybe'], [1, 0, 'no'], [0, 1, 'no'], [0, 1, 'no']]\n",
    "            * for axis = 1, value = 1.\n",
    "            for dataFeature in data:\n",
    "                if dataFeature[axis] == value:\n",
    "                        ====[[1, 1, 'yes'], [1, 1, 'yes'],[1, 1, 'maybe'],[1, 0, 'no']]\n",
    "                reducedFeatVec = dataFeature[:axis] ------(1)\n",
    "                        ==== [1],[1],[1],[0]\n",
    "                dataFeature[axis+1:] \n",
    "                        ==== ['yes'],['yes'],['maybe'],['no']-----(2)\n",
    "                when we extend (1) and (2), we have \n",
    "                       ====  [[1,'yes'],[1,'yes'],[1,'maybe'],[0,'no']]\n",
    "```"
   ]
  },
  {
   "cell_type": "code",
   "execution_count": 16,
   "metadata": {},
   "outputs": [
    {
     "name": "stdout",
     "output_type": "stream",
     "text": [
      "split data is [[1, 'yes'], [1, 'yes'], [1, 'maybe'], [0, 'no']]\n"
     ]
    }
   ],
   "source": [
    "split = splitDataSet(data.dataset, 0,1)\n",
    "print('split data is {0}'.format(split))"
   ]
  },
  {
   "cell_type": "markdown",
   "metadata": {},
   "source": [
    "### Step 4.3: Choosing the best feature to split on\n",
    "We saw Shannon entropy which calculated the amount of disorder, and also how to split our dataset. Now we are going to combine these 2 functions for the purpose of splitting the dataset on each feature to determine the best feature to split on.\n",
    "\n",
    "The `splitDataSet()` function will be called recursively on all features and for each feature, the `calcShannonEnt()` will be used to calculate the entropy of the split at that feature.\n",
    "\n",
    "**Assumptions**\n",
    "- All the data set are of the same size.\n",
    "- the lable is the last item in the data set."
   ]
  },
  {
   "cell_type": "code",
   "execution_count": 18,
   "metadata": {
    "collapsed": true
   },
   "outputs": [],
   "source": [
    "def chooseBestFeatureToSplit(dataSet):\n",
    "    '''\n",
    "    We combine the Shannon entropy calculation and the splitDataSet() function\n",
    "    to cycle through the dataset and decide which feature(axis) is the best to split on.\n",
    "    Entropy tells us which split best organise the data.\n",
    "    '''\n",
    "    numFeatures = len(dataSet[0]) - 1\t\t# Get the size of the features(exclude the lable) = 2\n",
    "    baseEntropy = calcShannonEnt(dataSet)   # get entropy for all the dataset\n",
    "    bestInfoGain = 0.0\n",
    "    bestFeature = -1\n",
    "    for i in range(numFeatures):            # loop through the features.\n",
    "        featList = [example[i] for example in dataSet]    # Get list of index 0 items in the dataset\n",
    "        uniqueVals = set(featList)          # make them unique and sorted , for [1,1,0,1], we have [0,1]\n",
    "        newEntropy = 0.0\n",
    "\n",
    "        for value in uniqueVals:            # split and find entropy when index value is in [0,1]\n",
    "            subDataSet = splitDataSet(dataSet, i, value)\n",
    "            prob = len(subDataSet)/float(len(dataSet))\n",
    "            newEntropy += prob * calcShannonEnt(subDataSet)\n",
    "        infoGain = baseEntropy - newEntropy\n",
    "\n",
    "        if (infoGain > bestInfoGain):\n",
    "            bestInfoGain = infoGain\n",
    "            bestFeature = i\n",
    "    return bestFeature\n"
   ]
  },
  {
   "cell_type": "markdown",
   "metadata": {},
   "source": [
    "#### Step 3: Train and Save Classifier\n",
    "We will collect our data and use `createTree()` from `tree.py` to create a classifier. This classifier will be save in a pickler database so that we won't have to create another classifier each time we will want to classify, we just simply load the classifier from the database and use."
   ]
  },
  {
   "cell_type": "markdown",
   "metadata": {},
   "source": [
    "#### Step 3.2 Train a classifier and view a decision tree"
   ]
  },
  {
   "cell_type": "code",
   "execution_count": 10,
   "metadata": {
    "collapsed": true,
    "scrolled": true
   },
   "outputs": [],
   "source": [
    "lensesTree = tree.createTree(lenses, lensesLabels)"
   ]
  },
  {
   "cell_type": "code",
   "execution_count": 11,
   "metadata": {},
   "outputs": [
    {
     "data": {
      "text/plain": [
       "{'tearRate': {'normal': {'astigmatic': {'no': {'age': {'pre': 'soft',\n",
       "      'presbyopic': {'prescript': {'hyper': 'soft', 'myope': 'no lenses'}},\n",
       "      'young': 'soft'}},\n",
       "    'yes': {'prescript': {'hyper': {'age': {'pre': 'no lenses',\n",
       "        'presbyopic': 'no lenses',\n",
       "        'young': 'hard'}},\n",
       "      'myope': 'hard'}}}},\n",
       "  'reduced': 'no lenses'}}"
      ]
     },
     "execution_count": 11,
     "metadata": {},
     "output_type": "execute_result"
    }
   ],
   "source": [
    "lensesTree"
   ]
  },
  {
   "cell_type": "code",
   "execution_count": 12,
   "metadata": {
    "scrolled": false
   },
   "outputs": [
    {
     "data": {
      "image/png": "[encoded data removed]",
      "text/plain": [
       "<matplotlib.figure.Figure at 0x7f27ab8ad1d0>"
      ]
     },
     "metadata": {},
     "output_type": "display_data"
    }
   ],
   "source": [
    "treePlotter.createPlot(lensesTree)"
   ]
  },
  {
   "cell_type": "markdown",
   "metadata": {},
   "source": [
    "#### Step 3.3 Save classifier \n",
    "We save the classifier in a pickle database file. This is so as to load it whenever we want to do classification.\n",
    "\n"
   ]
  },
  {
   "cell_type": "code",
   "execution_count": 13,
   "metadata": {
    "collapsed": true
   },
   "outputs": [],
   "source": [
    "saveDT.storeTree(lensesTree, 'lense_classifier_checkpoint.txt')"
   ]
  },
  {
   "cell_type": "markdown",
   "metadata": {},
   "source": [
    "### Step 4: Load Classifier for prediction\n",
    "In the cell above, we had save the classifier in a database so that we won't need to always create it each time we want to make predictions. So, here we load the classifier for prediction\n",
    "\n",
    "**NB:** Start from here if you are running this notebook more than once and had run this cell before. But first, run the first cell which will import all modules."
   ]
  },
  {
   "cell_type": "markdown",
   "metadata": {},
   "source": [
    "#### Step 4.1 load classifier"
   ]
  },
  {
   "cell_type": "code",
   "execution_count": 14,
   "metadata": {
    "collapsed": true
   },
   "outputs": [],
   "source": [
    "Classifier = saveDT.grabTree('lense_classifier_checkpoint.txt')"
   ]
  },
  {
   "cell_type": "code",
   "execution_count": 15,
   "metadata": {},
   "outputs": [
    {
     "data": {
      "text/plain": [
       "{'tearRate': {'normal': {'astigmatic': {'no': {'age': {'pre': 'soft',\n",
       "      'presbyopic': {'prescript': {'hyper': 'soft', 'myope': 'no lenses'}},\n",
       "      'young': 'soft'}},\n",
       "    'yes': {'prescript': {'hyper': {'age': {'pre': 'no lenses',\n",
       "        'presbyopic': 'no lenses',\n",
       "        'young': 'hard'}},\n",
       "      'myope': 'hard'}}}},\n",
       "  'reduced': 'no lenses'}}"
      ]
     },
     "execution_count": 15,
     "metadata": {},
     "output_type": "execute_result"
    }
   ],
   "source": [
    "Classifier"
   ]
  },
  {
   "cell_type": "markdown",
   "metadata": {},
   "source": [
    "#### Step 4.2 Predict"
   ]
  },
  {
   "cell_type": "code",
   "execution_count": 16,
   "metadata": {
    "collapsed": true
   },
   "outputs": [],
   "source": [
    "predict = tree.classify(Classifier, lensesLabels,[\"young\",\"hyper\",\"yes\",\"normal\"])"
   ]
  },
  {
   "cell_type": "code",
   "execution_count": 17,
   "metadata": {},
   "outputs": [
    {
     "data": {
      "text/plain": [
       "'hard'"
      ]
     },
     "execution_count": 17,
     "metadata": {},
     "output_type": "execute_result"
    }
   ],
   "source": [
    "predict"
   ]
  }
 ],
 "metadata": {
  "kernelspec": {
   "display_name": "Python 3",
   "language": "python",
   "name": "python3"
  },
  "language_info": {
   "codemirror_mode": {
    "name": "ipython",
    "version": 3
   },
   "file_extension": ".py",
   "mimetype": "text/x-python",
   "name": "python",
   "nbconvert_exporter": "python",
   "pygments_lexer": "ipython3",
   "version": "3.6.2"
  }
 },
 "nbformat": 4,
 "nbformat_minor": 2
}
